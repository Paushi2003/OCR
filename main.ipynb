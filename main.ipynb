{
 "cells": [
  {
   "cell_type": "code",
   "execution_count": null,
   "id": "921b2c02",
   "metadata": {},
   "outputs": [],
   "source": [
    "import cv2\n",
    "from PIL import Image\n",
    "import matplotlib.pyplot as plt\n",
    "import pytesseract\n",
    "im_file = \"Data/image.jpeg\"\n",
    "im = Image.open(im_file)\n",
    "# print(im.size)\n",
    "# im.rotate(180).show()\n",
    "img = cv2.imread(im_file)\n",
    "# cv2.imshow(\"Original Image\",img)\n",
    "# cv2.waitKey(0)"
   ]
  },
  {
   "cell_type": "code",
   "execution_count": null,
   "id": "17942611",
   "metadata": {},
   "outputs": [],
   "source": [
    "def display(im_path):\n",
    "    dpi = 80\n",
    "    im_data = plt.imread(im_path)\n",
    "    height, width = im_data.shape\n",
    "    figsize = width/float(dpi), height/float(dpi)\n",
    "    fig = plt.figure(figsize=figsize)\n",
    "    ax = fig.add_axes([0, 0, 1, 1])\n",
    "    ax.axis('off')\n",
    "    ax.imshow(im_data, cmap='gray')\n",
    "    plt.show()\n"
   ]
  },
  {
   "cell_type": "code",
   "execution_count": null,
   "id": "5b64bad9",
   "metadata": {},
   "outputs": [],
   "source": [
    "# To display image\n",
    "# display(im_file)\n",
    "# inverted image\n",
    "'''inverted_img = cv2.bitwise_not(img)\n",
    "cv2.imwrite(\"data/inverted.jpeg\", inverted_img)\n",
    "display('data/inverted.jpeg')'''\n",
    "\n",
    "# binarization\n",
    "def grayscale(image):\n",
    "    return cv2.cvtColor(image,cv2.COLOR_BGR2GRAY)\n",
    "gray_image = grayscale(img)\n",
    "cv2.imwrite(\"data/Gray.jpg\", gray_image)\n",
    "# display(\"data/Gray.jpg\")\n",
    "thresh, im_bw = cv2.threshold(gray_image, 127, 255, cv2.THRESH_BINARY)\n",
    "cv2.imwrite(\"Data/bw_img.jpeg\",im_bw)\n",
    "# display(\"data/bw_img.jpeg\")"
   ]
  },
  {
   "cell_type": "code",
   "execution_count": null,
   "id": "dc4d27c7",
   "metadata": {},
   "outputs": [],
   "source": [
    "# reduce noise\n",
    "def noise_removal(image):\n",
    "    import numpy as np\n",
    "    kernel = np.ones((1,1),np.uint8)\n",
    "    image =cv2.dilate(image,kernel,iterations=1)\n",
    "    kernel = np.ones((1,1),np.uint8)\n",
    "    image = cv2.erode(image,kernel,iterations=1)\n",
    "    image = cv2.morphologyEx(image,cv2.MORPH_CLOSE,kernel)\n",
    "    image = cv2.medianBlur(image,3)\n",
    "    return (image)\n",
    "no_noise = noise_removal(im_bw)\n",
    "cv2.imwrite(\"Data/no_noise.jpeg\",no_noise)"
   ]
  },
  {
   "cell_type": "code",
   "execution_count": null,
   "id": "1cc0a107",
   "metadata": {},
   "outputs": [],
   "source": [
    "def thin_font(image):\n",
    "    import numpy as np\n",
    "    image = cv2.bitwise_not(image)\n",
    "    kernel = np.ones((1, 1), np.uint8)\n",
    "    image = cv2.erode(image, kernel, iterations = 1)\n",
    "    image = cv2.bitwise_not(image)\n",
    "    return (image)\n",
    "eroded_img = thin_font(no_noise)\n",
    "cv2.imwrite('Data/eroded_img.jpeg',eroded_img)"
   ]
  },
  {
   "cell_type": "code",
   "execution_count": null,
   "id": "8c363653",
   "metadata": {},
   "outputs": [],
   "source": [
    "def thick_font(image):\n",
    "    import numpy as np\n",
    "    image = cv2.bitwise_not(image)\n",
    "    kernel = np.ones((2, 2), np.uint8)\n",
    "    image = cv2.dilate(image, kernel, iterations = 1)\n",
    "    image = cv2.bitwise_not(image)\n",
    "    return (image)\n",
    "dialated_img = thick_font(no_noise)\n",
    "cv2.imwrite('Data/dialated_img.jpeg',dialated_img)"
   ]
  },
  {
   "cell_type": "code",
   "execution_count": null,
   "id": "decd891e",
   "metadata": {},
   "outputs": [],
   "source": [
    "# removing borders\n",
    "def remove_borders(image):\n",
    "    contours, hierarchy = cv2.findContours(image, cv2.RETR_EXTERNAL, cv2.CHAIN_APPROX_SIMPLE)\n",
    "    cntSorted = sorted(contours, key = lambda x:cv2.contourArea(x))\n",
    "    cnt = cntSorted[-1]\n",
    "    x,y,w,h = cv2.boundingRect(cnt)\n",
    "    crop = image[y:y+h, x:x+w]\n",
    "    return (crop)\n",
    "no_borders = remove_borders(no_noise)\n",
    "cv2.imwrite('Data/no_border.jpeg',no_borders)"
   ]
  },
  {
   "cell_type": "code",
   "execution_count": null,
   "id": "43db8e73",
   "metadata": {},
   "outputs": [],
   "source": [
    "# how to add missing borders\n",
    "color = [255, 255, 255]\n",
    "top, bottom, left, right = [150]*4\n",
    "image_width_border = cv2.copyMakeBorder(no_borders,top,bottom,left,right,cv2.BORDER_CONSTANT,value=color)\n",
    "cv2.imwrite('Data/img_with_border.jpeg',image_width_border)"
   ]
  }
 ],
 "metadata": {
  "kernelspec": {
   "display_name": "Python 3 (ipykernel)",
   "language": "python",
   "name": "python3"
  },
  "language_info": {
   "codemirror_mode": {
    "name": "ipython",
    "version": 3
   },
   "file_extension": ".py",
   "mimetype": "text/x-python",
   "name": "python",
   "nbconvert_exporter": "python",
   "pygments_lexer": "ipython3",
   "version": "3.9.12"
  }
 },
 "nbformat": 4,
 "nbformat_minor": 5
}
